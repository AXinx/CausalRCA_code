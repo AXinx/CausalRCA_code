{
 "cells": [
  {
   "cell_type": "markdown",
   "id": "efca8aea",
   "metadata": {},
   "source": [
    "## Latency"
   ]
  },
  {
   "cell_type": "code",
   "execution_count": 655,
   "id": "77a61746",
   "metadata": {},
   "outputs": [],
   "source": [
    "file = './latency/network_latency_eta100.txt'\n",
    "with open(file, \"r\") as f: \n",
    "    records = []\n",
    "    for line in f.readlines():\n",
    "        line = line.strip('\\n')\n",
    "        records.append(line)\n",
    "start_time = records[0]\n",
    "end_time = records[-1]\n",
    "records = records[1:-1]\n",
    "#records"
   ]
  },
  {
   "cell_type": "code",
   "execution_count": 656,
   "id": "297e7b1c",
   "metadata": {},
   "outputs": [],
   "source": [
    "import ast\n",
    "end_index = [0]\n",
    "end_index += [i for (i,v) in enumerate(records) if v == '-----one service finish-----']\n",
    "services = ['front-end', 'user', 'catalogue', 'orders', 'carts', 'payment', 'shipping']\n",
    "res_dict = {}\n",
    "for i in range(len(end_index)-1):\n",
    "    if i==0:\n",
    "        res = records[end_index[i]:end_index[i+1]]\n",
    "    else:\n",
    "        res = records[end_index[i]+1:end_index[i+1]]\n",
    "    sev_index = int(res[0])\n",
    "    sev = services[sev_index]\n",
    "    results = res[1:]\n",
    "    values = []\n",
    "    for n in range(1,11):\n",
    "        ite = results.index(str(n))\n",
    "        if results[ite+1] == sev:\n",
    "            try:\n",
    "                if results[ite+2] != str(n+1):\n",
    "                    values.append(ast.literal_eval(results[ite+2]))\n",
    "            except:\n",
    "                pass\n",
    "        else:\n",
    "            break\n",
    "    res_dict[sev] = values\n",
    "#res_dict"
   ]
  },
  {
   "cell_type": "code",
   "execution_count": 657,
   "id": "9c2327f0",
   "metadata": {},
   "outputs": [
    {
     "name": "stdout",
     "output_type": "stream",
     "text": [
      "[0.4, 0.2, 0.6, 0.4, 0.2, 0.2, 0.6, 0.4, 0.2, 0.4]\n",
      "[0.4, 0.2, 0.4, 0.4, 0.4, 0.2, 0.2, 0.0, 0.4, 0.0]\n",
      "[0.2, 0.2, 0.2, 0.2, 0.6, 0.2, 0.4, 0.2, 0.2, 1.0]\n",
      "[0.0, 0.4, 0.6, 0.0, 0.2, 0.4, 0.2, 0.2, 0.4, 0.4]\n",
      "[0.4, 0.8, 0.4, 1.0, 0.2, 0.4, 0.4, 0.6, 0.2, 0.4]\n",
      "[1.0, 1.0, 1.0, 1.0, 1.0, 1.0, 1.0, 1.0, 1.0]\n",
      "[1.0, 0.4, 1.0, 1.0, 0.6, 1.0, 0.8, 1.0, 0.6, 1.0]\n",
      "0.5086\n"
     ]
    }
   ],
   "source": [
    "import numpy as np\n",
    "\n",
    "def ac_k(pred, k):\n",
    "    ac_ks = []\n",
    "    for each in pred:\n",
    "        if each <= k:\n",
    "            ac_v = 1\n",
    "        else:\n",
    "            ac_v = 0\n",
    "        ac_ks.append(ac_v)\n",
    "    return ac_ks\n",
    "\n",
    "def avg_k(pred, k):\n",
    "    sum_ks = np.zeros(shape=(len(pred),))\n",
    "    for i in range(k):\n",
    "        ac_i = ac_k(pred, i+1)\n",
    "        sum_ks += np.array(ac_i)\n",
    "    avg_ks = sum_ks/k\n",
    "    return(avg_ks)\n",
    "\n",
    "all_pred_orders = []\n",
    "for key,values in res_dict.items():\n",
    "    true_rca = services.index(key)\n",
    "    #print(true_rca)\n",
    "    pred_orders = []\n",
    "    for each in values:\n",
    "        order_v = [x[1] for x in each]\n",
    "        d = dict(each)\n",
    "        v = d[true_rca]\n",
    "        od = order_v.index(v)+1 \n",
    "        pred_orders.append(od)\n",
    "    all_pred_orders.append(pred_orders)\n",
    "\n",
    "all_mean = 0\n",
    "for i in range(7):\n",
    "    test = all_pred_orders[i]\n",
    "    #print(test)\n",
    "    #print(ac_k(test, 3))\n",
    "    avg_5 = avg_k(test, 5).tolist()\n",
    "    print(avg_5)\n",
    "    all_mean += np.mean(avg_5)\n",
    "print(round(all_mean/7,4))"
   ]
  },
  {
   "cell_type": "code",
   "execution_count": 658,
   "id": "65b3595d",
   "metadata": {},
   "outputs": [],
   "source": [
    "normal = [0.6244, 0.6143, 0.5815]\n",
    "gamma5 = [0.5397, 0.5229, 0.5]\n",
    "gamma75 = [0.5657, 0.6229, 0.5457]\n",
    "eta100 = [0.5693, 0.5345, 0.5086]\n",
    "eta1000 = [0.3972, 0.6002, 0.4645]"
   ]
  },
  {
   "cell_type": "code",
   "execution_count": 659,
   "id": "338b5b9c",
   "metadata": {},
   "outputs": [
    {
     "data": {
      "text/plain": [
       "('λ=0.25', 'η=10')"
      ]
     },
     "execution_count": 659,
     "metadata": {},
     "output_type": "execute_result"
    }
   ],
   "source": [
    "chr(955)+'='+'0.25',chr(951)+'='+'10'"
   ]
  },
  {
   "cell_type": "code",
   "execution_count": 698,
   "id": "b3719341",
   "metadata": {},
   "outputs": [
    {
     "data": {
      "image/png": "[encoded data removed]",
      "text/plain": [
       "<Figure size 864x576 with 1 Axes>"
      ]
     },
     "metadata": {
      "needs_background": "light"
     },
     "output_type": "display_data"
    }
   ],
   "source": [
    "import matplotlib.pyplot as plt\n",
    "import numpy as np\n",
    "%matplotlib inline\n",
    "\n",
    "labels = ['CPU hog','Memory leak','Network latency']\n",
    "#org_means = (0.8563, 0.8439, 0.5009, 0.8573, 0.8602)\n",
    "#org_err = [0,0,0,0,0]\n",
    "\n",
    "normal = [0.6244, 0.6143, 0.5815]\n",
    "gamma5 = [0.5397, 0.5229, 0.5]\n",
    "gamma75 = [0.5657, 0.6229, 0.5457]\n",
    "eta100 = [0.5693, 0.5345, 0.5086]\n",
    "eta1000 = [0.3972, 0.6002, 0.4645]\n",
    "\n",
    "width=0.15\n",
    "x = np.arange(len(labels))\n",
    "\n",
    "label1 = r'$\\gamma = 0.25, \\eta = 10$'\n",
    "label2 = r'$\\gamma = 0.5, \\eta = 10$'\n",
    "label3 = r'$\\gamma = 0.75, \\eta = 10$'\n",
    "label4 = r'$\\gamma = 0.25, \\eta = 100$'\n",
    "label5 = r'$\\gamma = 0.25, \\eta = 1000$'\n",
    "\n",
    "fig, ax = plt.subplots(figsize=(12,8))\n",
    "#ax.scatter(x,org_means)\n",
    "#ax.errorbar(x,org_means,yerr=org_err, label='NoMLP')\n",
    "rects1 = ax.bar(x-2*width, normal, width, label=label1, color='#6F80BE') #'#1f77b4')#, color='#F0D879')#,yerr=mlp_err)\n",
    "rects2 = ax.bar(x-1*width, gamma5, width, label=label2, color='#F47E62') #'#ff7f0e')#, color='#ed7d31')#,yerr=mlp_err)\n",
    "rects3 = ax.bar(x+0*width, gamma75, width, label=label3, color='#67C2A3') #'#2ca02c')#, color='#70ad47')#,yerr=mlp_err)\n",
    "rects4 = ax.bar(x+1*width, eta100, width, label=label4, color='#BD8EC0') #'#9467bd')#, color='#c82423')#,yerr=mlp_err)\n",
    "rects5 = ax.bar(x+2*width, eta1000, width, label=label5, color='#E6AF0C') #'#d62728')#, color='#c82423')#,yerr=mlp_err)\n",
    "\n",
    "#ax.errorbar(x,mlp_means,yerr=mlp_err, label='WithMLP')\n",
    "\n",
    "# for rect in rects1:\n",
    "#     ax.text(rect.get_x()+0.01, rect.get_height(), rect.get_height(), ha='left', va='bottom', fontsize=9)\n",
    "# for rect in rects2:\n",
    "#     ax.text(rect.get_x()+0.01, rect.get_height(), rect.get_height(), ha='left', va='bottom', fontsize=9)\n",
    "# for rect in rects3:\n",
    "#     ax.text(rect.get_x()+0.01, rect.get_height(), rect.get_height(), ha='left', va='bottom', fontsize=9)\n",
    "# for rect in rects4:\n",
    "#     ax.text(rect.get_x()+0.01, rect.get_height(), rect.get_height(), ha='left', va='bottom', fontsize=9)\n",
    "# for rect in rects5:\n",
    "#     ax.text(rect.get_x()+0.01, rect.get_height(), rect.get_height(), ha='left', va='bottom', fontsize=9)\n",
    "\n",
    "\n",
    "plt.xticks(fontsize=12)\n",
    "plt.yticks(fontsize=12)\n",
    "#ax.set_xlabel('Anomaly types', fontsize='x-large')\n",
    "ax.set_ylabel('Avg@5', fontsize='x-large')\n",
    "ax.set_xticks(x)\n",
    "ax.set_xticklabels(labels, fontsize='x-large')\n",
    "ax.set_ylim(0.3,0.7)\n",
    "ax.legend(loc='upper left', fontsize=14, ncol=3)\n",
    "#plt.grid(axis=\"y\")\n",
    "plt.savefig('latency_gamma_eta.pdf')\n",
    "plt.show()"
   ]
  },
  {
   "cell_type": "markdown",
   "id": "8a811168",
   "metadata": {},
   "source": [
    "## Single service"
   ]
  },
  {
   "cell_type": "code",
   "execution_count": 664,
   "id": "29ebca6e",
   "metadata": {},
   "outputs": [],
   "source": [
    "file = './single_service/network_single_service_eta1000.txt'\n",
    "with open(file, \"r\") as f: \n",
    "    records = []\n",
    "    for line in f.readlines():\n",
    "        line = line.strip('\\n')\n",
    "        records.append(line)\n",
    "start_time = records[0]\n",
    "end_time = records[-1]\n",
    "records = records[1:-1]\n",
    "#records"
   ]
  },
  {
   "cell_type": "code",
   "execution_count": 665,
   "id": "2f2b3e5a",
   "metadata": {},
   "outputs": [],
   "source": [
    "import ast\n",
    "end_index = [0]\n",
    "end_index += [i for (i,v) in enumerate(records) if v == '-----one service finish-----']\n",
    "services = ['front-end', 'user', 'catalogue', 'orders', 'carts', 'payment', 'shipping']\n",
    "res_dict = {}\n",
    "for i in range(len(end_index)-1):\n",
    "    if i==0:\n",
    "        res = records[end_index[i]:end_index[i+1]]\n",
    "    else:\n",
    "        res = records[end_index[i]+1:end_index[i+1]]\n",
    "    sev_index = int(res[0])\n",
    "    sev = services[sev_index]\n",
    "    results = res[1:]\n",
    "    values = []\n",
    "    ite_list = [i for (i,v) in enumerate(results) if v == sev]\n",
    "    for n in range(1,11):\n",
    "        ite = ite_list[n-1]\n",
    "        try:\n",
    "            if results[ite+1] != str(n+1):\n",
    "                values.append(ast.literal_eval(results[ite+1]))\n",
    "            else:\n",
    "                continue\n",
    "        except:\n",
    "            pass      \n",
    "    res_dict[sev] = values\n",
    "#res_dict"
   ]
  },
  {
   "cell_type": "code",
   "execution_count": 666,
   "id": "7cdfa6c7",
   "metadata": {},
   "outputs": [
    {
     "name": "stdout",
     "output_type": "stream",
     "text": [
      "[0.8, 0.8, 0.8, 0.8, 0.8, 0.8, 0.8, 0.8, 0.8, 0.8]\n",
      "[0.6, 0.6, 0.4, 1.0, 0.8, 0.2, 0.4]\n",
      "[0.8, 0.6, 0.8, 0.4, 0.6, 0.8, 0.4, 1.0, 0.6]\n",
      "[0.6, 0.8, 0.6, 1.0, 0.4, 0.8, 0.4, 1.0, 0.4]\n",
      "[0.6, 0.6, 0.4, 0.8, 0.2, 0.2, 0.6, 0.4, 0.6, 0.6]\n",
      "[1.0, 1.0, 1.0, 1.0, 1.0, 1.0, 0.75, 1.0, 1.0]\n",
      "[0.5, 0.5, 0.75, 0.5, 0.75, 0.75, 0.75]\n",
      "0.6885\n"
     ]
    }
   ],
   "source": [
    "import numpy as np\n",
    "\n",
    "def ac_k(pred, k):\n",
    "    ac_ks = []\n",
    "    for each in pred:\n",
    "        if each <= k:\n",
    "            ac_v = 1\n",
    "        else:\n",
    "            ac_v = 0\n",
    "        ac_ks.append(ac_v)\n",
    "    return ac_ks\n",
    "\n",
    "def avg_k(pred, k, length):\n",
    "    sum_ks = np.zeros(shape=(len(pred),))\n",
    "    if (length) < k:\n",
    "        max_v = length\n",
    "    else: \n",
    "        max_v = k\n",
    "    for i in range(max_v):\n",
    "        ac_i = ac_k(pred, i+1)\n",
    "        sum_ks += np.array(ac_i)\n",
    "    avg_ks = sum_ks/max_v\n",
    "    return(avg_ks)\n",
    "cpu_truth_rcas = [1,1,1,1,1,1,1]\n",
    "mem_truth_rcas = [2,2,2,2,2,2,2]\n",
    "net_truth_rcas = [4,4,4,5,4,3,3]\n",
    "all_pred_orders = []\n",
    "all_nodes_length = []\n",
    "for key,values in res_dict.items():\n",
    "    length = len(values[0])\n",
    "    true_rca = net_truth_rcas[services.index(key)]\n",
    "    #print(true_rca)\n",
    "    pred_orders = []\n",
    "    for each in values:\n",
    "        order_v = [x[1] for x in each]\n",
    "        d = dict(each)\n",
    "        v = d[true_rca]\n",
    "        od = order_v.index(v)+1 \n",
    "        pred_orders.append(od)\n",
    "    all_nodes_length.append(length)\n",
    "    all_pred_orders.append(pred_orders)\n",
    "\n",
    "all_mean = 0\n",
    "for i in range(7):\n",
    "    nodes_n = all_nodes_length[i]\n",
    "    test = all_pred_orders[i]\n",
    "    #print(ac_k(test, 3))\n",
    "    avg_5 = avg_k(test, 5, nodes_n).tolist()\n",
    "    print(avg_5)\n",
    "    all_mean += np.mean(avg_5)\n",
    "print(round(all_mean/7,4))"
   ]
  },
  {
   "cell_type": "code",
   "execution_count": 667,
   "id": "4c999cc1",
   "metadata": {},
   "outputs": [],
   "source": [
    "normal = [0.67, 0.6771, 0.6681]\n",
    "gamma5 = [0.6257, 0.6571, 0.675]\n",
    "gamma75 = [0.5629, 0.6378, 0.6677]\n",
    "eta100 = [0.6171, 0.68, 0.661]\n",
    "eta1000 = [0.601, 0.6962, 0.6885]"
   ]
  },
  {
   "cell_type": "code",
   "execution_count": 697,
   "id": "52e2880c",
   "metadata": {},
   "outputs": [
    {
     "data": {
      "image/png": "[encoded data removed]",
      "text/plain": [
       "<Figure size 864x576 with 1 Axes>"
      ]
     },
     "metadata": {
      "needs_background": "light"
     },
     "output_type": "display_data"
    }
   ],
   "source": [
    "import matplotlib.pyplot as plt\n",
    "import numpy as np\n",
    "%matplotlib inline\n",
    "\n",
    "labels = ['CPU hog','Memory leak','Network latency']\n",
    "#org_means = (0.8563, 0.8439, 0.5009, 0.8573, 0.8602)\n",
    "#org_err = [0,0,0,0,0]\n",
    "\n",
    "normal = [0.67, 0.6771, 0.6681]\n",
    "gamma5 = [0.6257, 0.6571, 0.675]\n",
    "gamma75 = [0.5629, 0.6378, 0.6677]\n",
    "eta100 = [0.6171, 0.68, 0.661]\n",
    "eta1000 = [0.601, 0.6962, 0.6885]\n",
    "\n",
    "width=0.15\n",
    "x = np.arange(len(labels))\n",
    "\n",
    "label1 = r'$\\gamma = 0.25, \\eta = 10$'\n",
    "label2 = r'$\\gamma = 0.5, \\eta = 10$'\n",
    "label3 = r'$\\gamma = 0.75, \\eta = 10$'\n",
    "label4 = r'$\\gamma = 0.25, \\eta = 100$'\n",
    "label5 = r'$\\gamma = 0.25, \\eta = 1000$'\n",
    "\n",
    "fig, ax = plt.subplots(figsize=(12,8))\n",
    "#ax.scatter(x,org_means)\n",
    "#ax.errorbar(x,org_means,yerr=org_err, label='NoMLP')\n",
    "rects1 = ax.bar(x-2*width, normal, width, label=label1, color='#6F80BE') #'#1f77b4')#, color='#F0D879')#,yerr=mlp_err)\n",
    "rects2 = ax.bar(x-1*width, gamma5, width, label=label2, color='#F47E62') #'#ff7f0e')#, color='#ed7d31')#,yerr=mlp_err)\n",
    "rects3 = ax.bar(x+0*width, gamma75, width, label=label3, color='#67C2A3') #'#2ca02c')#, color='#70ad47')#,yerr=mlp_err)\n",
    "rects4 = ax.bar(x+1*width, eta100, width, label=label4, color='#BD8EC0') #'#9467bd')#, color='#c82423')#,yerr=mlp_err)\n",
    "rects5 = ax.bar(x+2*width, eta1000, width, label=label5, color='#E6AF0C') #'#d62728')#, color='#c82423')#,yerr=mlp_err)\n",
    "\n",
    "#ax.errorbar(x,mlp_means,yerr=mlp_err, label='WithMLP')\n",
    "\n",
    "# for rect in rects1:\n",
    "#     ax.text(rect.get_x()+0.01, rect.get_height(), rect.get_height(), ha='left', va='bottom', fontsize=9)\n",
    "# for rect in rects2:\n",
    "#     ax.text(rect.get_x()+0.01, rect.get_height(), rect.get_height(), ha='left', va='bottom', fontsize=9)\n",
    "# for rect in rects3:\n",
    "#     ax.text(rect.get_x()+0.01, rect.get_height(), rect.get_height(), ha='left', va='bottom', fontsize=9)\n",
    "# for rect in rects4:\n",
    "#     ax.text(rect.get_x()+0.01, rect.get_height(), rect.get_height(), ha='left', va='bottom', fontsize=9)\n",
    "# for rect in rects5:\n",
    "#     ax.text(rect.get_x()+0.01, rect.get_height(), rect.get_height(), ha='left', va='bottom', fontsize=9)\n",
    "\n",
    "\n",
    "plt.xticks(fontsize=12)\n",
    "plt.yticks(fontsize=12)\n",
    "#ax.set_xlabel('Anomaly types', fontsize='x-large')\n",
    "ax.set_ylabel('Avg@5', fontsize='x-large')\n",
    "ax.set_xticks(x)\n",
    "ax.set_xticklabels(labels, fontsize='x-large')\n",
    "ax.set_ylim(0.3,0.8)\n",
    "ax.legend(loc='upper left', fontsize=14, ncol=3)\n",
    "#plt.grid(axis=\"y\")\n",
    "plt.savefig('single_service_gamma_eta.pdf')\n",
    "plt.show()"
   ]
  },
  {
   "cell_type": "markdown",
   "id": "c3c83960",
   "metadata": {},
   "source": [
    "## All service"
   ]
  },
  {
   "cell_type": "code",
   "execution_count": 671,
   "id": "d83f9f8f",
   "metadata": {},
   "outputs": [],
   "source": [
    "file = './all_service/network_all_service_eta1000.txt'\n",
    "with open(file, \"r\") as f: \n",
    "    records = []\n",
    "    for line in f.readlines():\n",
    "        line = line.strip('\\n')\n",
    "        records.append(line)\n",
    "start_time = records[0]\n",
    "end_time = records[-1]\n",
    "records = records[1:-1]\n",
    "#records"
   ]
  },
  {
   "cell_type": "code",
   "execution_count": 672,
   "id": "864e3c9c",
   "metadata": {},
   "outputs": [],
   "source": [
    "import ast\n",
    "end_index = [0]\n",
    "end_index += [i for (i,v) in enumerate(records) if v == '-----one service finish-----']\n",
    "services = ['front-end', 'user', 'catalogue', 'orders', 'carts', 'payment', 'shipping']\n",
    "res_dict = {}\n",
    "for i in range(len(end_index)-1):\n",
    "    if i==0:\n",
    "        res = records[end_index[i]:end_index[i+1]]\n",
    "    else:\n",
    "        res = records[end_index[i]+1:end_index[i+1]]\n",
    "    sev_index = int(res[0])\n",
    "    sev = services[sev_index]\n",
    "    results = res[1:]\n",
    "    values = []\n",
    "    ite_index = [results.index(str(n)) for n in range(1,11)]\n",
    "    for n in range(9):\n",
    "        each_value = []\n",
    "        value = results[ite_index[n]+2:ite_index[n+1]]\n",
    "        for each in value:\n",
    "            start_index = each.find(\"(\")\n",
    "            ed_index = each.find(\")\")\n",
    "            result_str = each[start_index:ed_index+1]\n",
    "            result_tuple = eval(result_str)\n",
    "            each_value.append(result_tuple)\n",
    "        if len(each_value) != 0:\n",
    "            values.append(each_value)\n",
    "    res_dict[sev] = values\n",
    "#res_dict"
   ]
  },
  {
   "cell_type": "code",
   "execution_count": 673,
   "id": "9f28e34a",
   "metadata": {},
   "outputs": [
    {
     "name": "stdout",
     "output_type": "stream",
     "text": [
      "17.4444\n"
     ]
    }
   ],
   "source": [
    "import numpy as np\n",
    "\n",
    "def ac_k(pred, k):\n",
    "    ac_ks = []\n",
    "    for each in pred:\n",
    "        if each <= k:\n",
    "            ac_v = 1\n",
    "        else:\n",
    "            ac_v = 0\n",
    "        ac_ks.append(ac_v)\n",
    "    return ac_ks\n",
    "\n",
    "def avg_k(pred, k, length):\n",
    "    sum_ks = np.zeros(shape=(len(pred),))\n",
    "    if (length) < k:\n",
    "        max_v = length\n",
    "    else: \n",
    "        max_v = k\n",
    "    for i in range(max_v):\n",
    "        ac_i = ac_k(pred, i+1)\n",
    "        sum_ks += np.array(ac_i)\n",
    "    avg_ks = sum_ks/max_v\n",
    "    return(avg_ks)\n",
    "cpu_truth_rcas = [1,6,11,15,21,27,30]\n",
    "mem_truth_rcas = [2,7,12,16,23,28,32]\n",
    "net_truth_rcas = [4,9,15,19,24,29,35]\n",
    "all_pred_orders = []\n",
    "all_nodes_length = []\n",
    "for key,values in res_dict.items():\n",
    "    length = len(values[0])\n",
    "    true_rca = net_truth_rcas[services.index(key)]\n",
    "    #print(true_rca)\n",
    "    pred_orders = []\n",
    "    for each in values:\n",
    "        order_v = [x[1] for x in each]\n",
    "        d = dict(each)\n",
    "        v = d[true_rca]\n",
    "        od = order_v.index(v)+1 \n",
    "        pred_orders.append(od)\n",
    "    all_nodes_length.append(length)\n",
    "    all_pred_orders.append(pred_orders)\n",
    "\n",
    "all_mean = 0\n",
    "for i in range(7):\n",
    "    test = all_pred_orders[i]\n",
    "    all_mean += np.mean(test)\n",
    "print(round(all_mean/7,4))"
   ]
  },
  {
   "cell_type": "code",
   "execution_count": 674,
   "id": "7ab6be6e",
   "metadata": {},
   "outputs": [],
   "source": [
    "normal = [12, 15, 14]\n",
    "gamma5 = [15, 12.8, 20]\n",
    "gamma75 = [14.76, 12.3, 17.9]\n",
    "eta100 = [17.76, 14.5, 19.92]\n",
    "eta1000 = [17.56, 13.4, 17.44]"
   ]
  },
  {
   "cell_type": "code",
   "execution_count": 696,
   "id": "d5ea1bc1",
   "metadata": {},
   "outputs": [
    {
     "data": {
      "image/png": "[encoded data removed]",
      "text/plain": [
       "<Figure size 864x576 with 1 Axes>"
      ]
     },
     "metadata": {
      "needs_background": "light"
     },
     "output_type": "display_data"
    }
   ],
   "source": [
    "import matplotlib.pyplot as plt\n",
    "import numpy as np\n",
    "%matplotlib inline\n",
    "\n",
    "labels = ['CPU hog','Memory leak','Network latency']\n",
    "#org_means = (0.8563, 0.8439, 0.5009, 0.8573, 0.8602)\n",
    "#org_err = [0,0,0,0,0]\n",
    "\n",
    "normal = [12, 15, 14]\n",
    "gamma5 = [15, 13, 20]\n",
    "gamma75 = [15, 12, 18]\n",
    "eta100 = [18, 15, 20]\n",
    "eta1000 = [18, 13, 17]\n",
    "\n",
    "width=0.15\n",
    "x = np.arange(len(labels))\n",
    "\n",
    "label1 = r'$\\gamma = 0.25, \\eta = 10$'\n",
    "label2 = r'$\\gamma = 0.5, \\eta = 10$'\n",
    "label3 = r'$\\gamma = 0.75, \\eta = 10$'\n",
    "label4 = r'$\\gamma = 0.25, \\eta = 100$'\n",
    "label5 = r'$\\gamma = 0.25, \\eta = 1000$'\n",
    "\n",
    "fig, ax = plt.subplots(figsize=(12,8))\n",
    "#ax.scatter(x,org_means)\n",
    "#ax.errorbar(x,org_means,yerr=org_err, label='NoMLP')\n",
    "rects1 = ax.bar(x-2*width, normal, width, label=label1, color='#6F80BE') #'#1f77b4')#, color='#F0D879')#,yerr=mlp_err)\n",
    "rects2 = ax.bar(x-1*width, gamma5, width, label=label2, color='#F47E62') #'#ff7f0e')#, color='#ed7d31')#,yerr=mlp_err)\n",
    "rects3 = ax.bar(x+0*width, gamma75, width, label=label3, color='#67C2A3') #'#2ca02c')#, color='#70ad47')#,yerr=mlp_err)\n",
    "rects4 = ax.bar(x+1*width, eta100, width, label=label4, color='#BD8EC0') #'#9467bd')#, color='#c82423')#,yerr=mlp_err)\n",
    "rects5 = ax.bar(x+2*width, eta1000, width, label=label5, color='#E6AF0C') #'#d62728')#, color='#c82423')#,yerr=mlp_err)\n",
    "\n",
    "#ax.errorbar(x,mlp_means,yerr=mlp_err, label='WithMLP')\n",
    "\n",
    "# for rect in rects1:\n",
    "#     ax.text(rect.get_x()+0.05, rect.get_height(), rect.get_height(), ha='left', va='bottom', fontsize=9)\n",
    "# for rect in rects2:\n",
    "#     ax.text(rect.get_x()+0.05, rect.get_height(), rect.get_height(), ha='left', va='bottom', fontsize=9)\n",
    "# for rect in rects3:\n",
    "#     ax.text(rect.get_x()+0.05, rect.get_height(), rect.get_height(), ha='left', va='bottom', fontsize=9)\n",
    "# for rect in rects4:\n",
    "#     ax.text(rect.get_x()+0.05, rect.get_height(), rect.get_height(), ha='left', va='bottom', fontsize=9)\n",
    "# for rect in rects5:\n",
    "#     ax.text(rect.get_x()+0.05, rect.get_height(), rect.get_height(), ha='left', va='bottom', fontsize=9)\n",
    "\n",
    "plt.xticks(fontsize=12)\n",
    "plt.yticks(fontsize=12)\n",
    "#ax.set_xlabel('Anomaly types', fontsize='x-large')\n",
    "ax.set_ylabel('Rank', fontsize='x-large')\n",
    "ax.set_xticks(x)\n",
    "ax.set_xticklabels(labels, fontsize='x-large')\n",
    "ax.set_ylim(10,22)\n",
    "ax.legend(loc='upper left', fontsize=14, ncol=3)\n",
    "#plt.grid(axis=\"y\")\n",
    "plt.savefig('all_service_gamma_eta.pdf')\n",
    "plt.show()"
   ]
  },
  {
   "cell_type": "code",
   "execution_count": null,
   "id": "bfa51a3e",
   "metadata": {},
   "outputs": [],
   "source": []
  }
 ],
 "metadata": {
  "kernelspec": {
   "display_name": "Python 3 (ipykernel)",
   "language": "python",
   "name": "python3"
  },
  "language_info": {
   "codemirror_mode": {
    "name": "ipython",
    "version": 3
   },
   "file_extension": ".py",
   "mimetype": "text/x-python",
   "name": "python",
   "nbconvert_exporter": "python",
   "pygments_lexer": "ipython3",
   "version": "3.9.7"
  }
 },
 "nbformat": 4,
 "nbformat_minor": 5
}
